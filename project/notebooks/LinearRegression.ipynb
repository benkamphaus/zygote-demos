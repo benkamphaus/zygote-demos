{
 "cells": [
  {
   "cell_type": "markdown",
   "metadata": {},
   "source": [
    "# LinearRegression type\n",
    "\n",
    "- Properties declared in a struct\n",
    "- Function that initializes regression (analogous to constructor)\n",
    "- predict and loss functions/methods."
   ]
  },
  {
   "cell_type": "code",
   "execution_count": 1,
   "metadata": {},
   "outputs": [
    {
     "data": {
      "text/plain": [
       "LinearAlgebra"
      ]
     },
     "execution_count": 1,
     "metadata": {},
     "output_type": "execute_result"
    }
   ],
   "source": [
    "import LinearAlgebra\n",
    "const LA = LinearAlgebra"
   ]
  },
  {
   "cell_type": "code",
   "execution_count": 2,
   "metadata": {},
   "outputs": [],
   "source": [
    "mutable struct LinearRegression\n",
    "    weights::Matrix\n",
    "    bias::Float64\n",
    "    name::String\n",
    "end"
   ]
  },
  {
   "cell_type": "code",
   "execution_count": 3,
   "metadata": {},
   "outputs": [
    {
     "data": {
      "text/plain": [
       "LinearRegression"
      ]
     },
     "execution_count": 3,
     "metadata": {},
     "output_type": "execute_result"
    }
   ],
   "source": [
    "LinearRegression(nparams, name) = LinearRegression(randn(1, nparams), 0.0, name)"
   ]
  },
  {
   "cell_type": "code",
   "execution_count": 4,
   "metadata": {},
   "outputs": [
    {
     "data": {
      "text/plain": [
       "predict (generic function with 1 method)"
      ]
     },
     "execution_count": 4,
     "metadata": {},
     "output_type": "execute_result"
    }
   ],
   "source": [
    "function predict(model::LinearRegression, X)\n",
    "    model.weights * X .+ model.bias\n",
    "end"
   ]
  },
  {
   "cell_type": "code",
   "execution_count": 5,
   "metadata": {},
   "outputs": [
    {
     "data": {
      "text/plain": [
       "loss (generic function with 1 method)"
      ]
     },
     "execution_count": 5,
     "metadata": {},
     "output_type": "execute_result"
    }
   ],
   "source": [
    "function loss(model::LinearRegression, X, y)\n",
    "    LA.norm(predict(model, X) .- y, 2)\n",
    "end"
   ]
  },
  {
   "cell_type": "markdown",
   "metadata": {},
   "source": [
    "## Simulated Data\n",
    "\n",
    "Generate some values from ground truth coefficients and bias, noised."
   ]
  },
  {
   "cell_type": "code",
   "execution_count": 6,
   "metadata": {},
   "outputs": [
    {
     "data": {
      "text/plain": [
       "4×10000 Array{Float64,2}:\n",
       " -1.42377    0.684539   0.3915    …  -1.35926    0.575699    0.0628009\n",
       " -0.914241   0.516112   0.988799      0.252688   0.767532   -1.31141  \n",
       "  0.967221  -0.533801   0.425579     -1.90016   -0.0081994   0.167494 \n",
       " -0.429949  -1.08626   -0.545672     -0.063323   0.0632546  -0.118959 "
      ]
     },
     "execution_count": 6,
     "metadata": {},
     "output_type": "execute_result"
    }
   ],
   "source": [
    "weights_gt = [1.0, 2.7, 0.3, 1.2]'\n",
    "bias_gt = 0.4\n",
    "\n",
    "X = randn(length(weights_gt), 10000)\n",
    "y = weights_gt * X .+ bias_gt\n",
    "\n",
    "X .+= 0.001 .* randn(size(X))"
   ]
  },
  {
   "cell_type": "code",
   "execution_count": 7,
   "metadata": {},
   "outputs": [],
   "source": [
    "import Zygote"
   ]
  },
  {
   "cell_type": "code",
   "execution_count": 8,
   "metadata": {},
   "outputs": [
    {
     "data": {
      "text/plain": [
       "(Base.RefValue{Any}((weights = [-1.423771882374618 -0.9142405236059253 0.9672213266956339 -0.4299485194248357], bias = 1.0, name = nothing)),)"
      ]
     },
     "execution_count": 8,
     "metadata": {},
     "output_type": "execute_result"
    }
   ],
   "source": [
    "model = LinearRegression(size(X, 1), \"Example\")\n",
    "\n",
    "grads = Zygote.gradient(model) do m\n",
    "    return loss(m, X[:,1], y[1])\n",
    "end"
   ]
  },
  {
   "cell_type": "code",
   "execution_count": 11,
   "metadata": {},
   "outputs": [
    {
     "data": {
      "text/plain": [
       "Base.RefValue{Any}((weights = [-1.423771882374618 -0.9142405236059253 0.9672213266956339 -0.4299485194248357], bias = 1.0, name = nothing))"
      ]
     },
     "execution_count": 11,
     "metadata": {},
     "output_type": "execute_result"
    }
   ],
   "source": [
    "grads[1]"
   ]
  },
  {
   "cell_type": "code",
   "execution_count": 12,
   "metadata": {},
   "outputs": [
    {
     "data": {
      "text/plain": [
       "(weights = [-1.423771882374618 -0.9142405236059253 0.9672213266956339 -0.4299485194248357], bias = 1.0, name = nothing)"
      ]
     },
     "execution_count": 12,
     "metadata": {},
     "output_type": "execute_result"
    }
   ],
   "source": [
    "grads[1][]"
   ]
  },
  {
   "cell_type": "code",
   "execution_count": 13,
   "metadata": {},
   "outputs": [
    {
     "data": {
      "text/plain": [
       "sgd_update! (generic function with 2 methods)"
      ]
     },
     "execution_count": 13,
     "metadata": {},
     "output_type": "execute_result"
    }
   ],
   "source": [
    "function sgd_update!(model::LinearRegression, grads, η = 0.001)\n",
    "    model.weights .-= η .* grads.weights\n",
    "    model.bias -= η * grads.bias\n",
    "end"
   ]
  },
  {
   "cell_type": "code",
   "execution_count": 16,
   "metadata": {},
   "outputs": [
    {
     "name": "stderr",
     "output_type": "stream",
     "text": [
      "┌ Info: Running train loop for 10000 iterations\n",
      "└ @ Main In[16]:1\n"
     ]
    }
   ],
   "source": [
    "@info(\"Running train loop for $(size(X,2)) iterations\")\n",
    "for idx in 1:size(X, 2)\n",
    "    grads = Zygote.gradient(m -> loss(m, X[:, idx], y[idx]), model)[1][]\n",
    "    sgd_update!(model, grads)\n",
    "end"
   ]
  },
  {
   "cell_type": "code",
   "execution_count": 17,
   "metadata": {},
   "outputs": [
    {
     "data": {
      "text/plain": [
       "1×4 LinearAlgebra.Adjoint{Float64,Array{Float64,1}}:\n",
       " 1.0  2.7  0.3  1.2"
      ]
     },
     "execution_count": 17,
     "metadata": {},
     "output_type": "execute_result"
    }
   ],
   "source": [
    "weights_gt"
   ]
  },
  {
   "cell_type": "code",
   "execution_count": 18,
   "metadata": {},
   "outputs": [
    {
     "data": {
      "text/plain": [
       "1×4 Array{Float64,2}:\n",
       " 1.00592  2.69935  0.300931  1.19765"
      ]
     },
     "execution_count": 18,
     "metadata": {},
     "output_type": "execute_result"
    }
   ],
   "source": [
    "model.weights"
   ]
  }
 ],
 "metadata": {
  "kernelspec": {
   "display_name": "Julia 1.2.0",
   "language": "julia",
   "name": "julia-1.2"
  },
  "language_info": {
   "file_extension": ".jl",
   "mimetype": "application/julia",
   "name": "julia",
   "version": "1.2.0"
  }
 },
 "nbformat": 4,
 "nbformat_minor": 4
}
